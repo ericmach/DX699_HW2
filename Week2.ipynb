{
 "cells": [
  {
   "cell_type": "markdown",
   "id": "5190b54c-d49c-4d6f-80cc-22555336a9cd",
   "metadata": {},
   "source": [
    "# Week 2 - Preprocessing, part 2\n",
    "\n",
    "# 1. Lesson: None"
   ]
  },
  {
   "cell_type": "markdown",
   "id": "47c4e5ff-b05f-4ef2-96f1-49dcb5beb158",
   "metadata": {},
   "source": [
    "# 2. Weekly graph question"
   ]
  },
  {
   "cell_type": "markdown",
   "id": "aad37e29-6e84-41fa-886d-abc1312213ab",
   "metadata": {},
   "source": [
    "The Storytelling With Data book mentions planning on a \"Who, What, and How\" for your data story.  Write down a possible Who, What, and How for your data, using the ideas in the book."
   ]
  },
  {
   "cell_type": "code",
   "execution_count": null,
   "id": "c862fc32-1297-4587-b9da-4b0642ab3e6e",
   "metadata": {},
   "outputs": [],
   "source": []
  },
  {
   "cell_type": "markdown",
   "id": "898eb327-aefd-4ac0-b95a-92b616a2181b",
   "metadata": {},
   "source": [
    "# 3. Homework - work with your own data"
   ]
  },
  {
   "cell_type": "code",
   "execution_count": 3,
   "id": "fe925521-979f-4983-8d85-8db8d1316e99",
   "metadata": {},
   "outputs": [],
   "source": [
    "import pandas as pd\n",
    "import numpy as np\n",
    "from datetime import datetime, timedelta\n",
    "import chardet"
   ]
  },
  {
   "cell_type": "markdown",
   "id": "14836788-b235-4cd4-b94d-5f749c6141a8",
   "metadata": {},
   "source": [
    "This week, you will do the same types of exercises as last week, but you should use your chosen datasets that someone in your class found last semester. (They likely will not be the particular datasets that you found yourself.)\n",
    "\n",
    "### Here are some types of analysis you can do  Use Google, documentation, and ChatGPT to help you:\n",
    "\n",
    "- Summarize the datasets using info() and describe()\n",
    "\n",
    "- Are there any duplicate rows?\n",
    "\n",
    "- Are there any duplicate values in a given column (when this would be inappropriate?)\n",
    "\n",
    "- What are the mean, median, and mode of each column?\n",
    "\n",
    "- Are there any missing or null values?\n",
    "\n",
    "    - Do you want to fill in the missing value with a mean value?  A value of your choice?  Remove that row?\n",
    "\n",
    "- Identify any other inconsistent data (e.g. someone seems to be taking an action before they are born.)\n",
    "\n",
    "- Encode any categorical variables (e.g. with one-hot encoding.)\n",
    "\n",
    "### Conclusions:\n",
    "\n",
    "- Are the data usable?  If not, find some new data!\n",
    "\n",
    "- Do you need to modify or correct the data in some way?\n",
    "\n",
    "- Is there any class imbalance?  (Categories that have many more items than other categories)."
   ]
  },
  {
   "cell_type": "code",
   "execution_count": null,
   "id": "e1f83b2e",
   "metadata": {},
   "outputs": [
    {
     "name": "stdout",
     "output_type": "stream",
     "text": [
      "   Region       Sub-region  Country ISO3 code  M49 code         RE or Non-RE  \\\n",
      "0  Africa  Northern Africa  Algeria       DZA        12  Total Non-Renewable   \n",
      "1  Africa  Northern Africa  Algeria       DZA        12  Total Non-Renewable   \n",
      "2  Africa  Northern Africa  Algeria       DZA        12  Total Non-Renewable   \n",
      "3  Africa  Northern Africa  Algeria       DZA        12  Total Non-Renewable   \n",
      "4  Africa  Northern Africa  Algeria       DZA        12  Total Non-Renewable   \n",
      "\n",
      "  Group Technology   Technology        Producer Type  Year  \\\n",
      "0     Fossil fuels  Natural gas  On-grid electricity  2000   \n",
      "1     Fossil fuels  Natural gas  On-grid electricity  2001   \n",
      "2     Fossil fuels  Natural gas  On-grid electricity  2002   \n",
      "3     Fossil fuels  Natural gas  On-grid electricity  2003   \n",
      "4     Fossil fuels  Natural gas  On-grid electricity  2004   \n",
      "\n",
      "   Electricity Generation (GWh)  Electricity Installed Capacity (MW)  \n",
      "0                       24585.0                              5459.01  \n",
      "1                       25781.0                              5455.50  \n",
      "2                       26994.0                              5891.01  \n",
      "3                       28619.4                              6013.24  \n",
      "4                       30312.0                              6305.24  \n"
     ]
    }
   ],
   "source": [
    "import chardet\n",
    "file_path = 'IRENA_RenewableEnergy_Statistics_2000-2022.csv'\n",
    "\n",
    "with open(file_path, 'rb') as f:\n",
    "    result = chardet.detect(f.read())\n",
    "\n",
    "irena = pd.read_csv(file_path, encoding=result['encoding'])\n",
    "\n",
    "print(irena.head())"
   ]
  },
  {
   "cell_type": "code",
   "execution_count": 8,
   "id": "9cfe3b78",
   "metadata": {},
   "outputs": [
    {
     "name": "stdout",
     "output_type": "stream",
     "text": [
      "   Unnamed: 0  YEAR  MONTH STATE               TYPE OF PRODUCER  \\\n",
      "0           0  2001      1    AK  Total Electric Power Industry   \n",
      "1           1  2001      1    AK  Total Electric Power Industry   \n",
      "2           2  2001      1    AK  Total Electric Power Industry   \n",
      "3           3  2001      1    AK  Total Electric Power Industry   \n",
      "4           4  2001      1    AK  Total Electric Power Industry   \n",
      "\n",
      "                ENERGY SOURCE  GENERATION (Megawatthours)  \n",
      "0                        Coal                     46903.0  \n",
      "1                   Petroleum                     71085.0  \n",
      "2                 Natural Gas                    367521.0  \n",
      "3  Hydroelectric Conventional                    104549.0  \n",
      "4                        Wind                        87.0  \n"
     ]
    }
   ],
   "source": [
    "file_path_1 = 'organised_Gen.csv'\n",
    "\n",
    "with open(file_path_1, 'rb') as f:\n",
    "    result = chardet.detect(f.read())\n",
    "\n",
    "us_data = pd.read_csv(file_path_1, encoding=result['encoding'])\n",
    "\n",
    "print(us_data.head())"
   ]
  },
  {
   "cell_type": "code",
   "execution_count": 4,
   "id": "f195a852",
   "metadata": {},
   "outputs": [
    {
     "name": "stdout",
     "output_type": "stream",
     "text": [
      "   Entity Code  Year  Geo Biomass Other - TWh  Solar Generation - TWh  \\\n",
      "0  Africa  NaN  1971                    0.164                     0.0   \n",
      "1  Africa  NaN  1972                    0.165                     0.0   \n",
      "2  Africa  NaN  1973                    0.170                     0.0   \n",
      "3  Africa  NaN  1974                    0.175                     0.0   \n",
      "4  Africa  NaN  1975                    0.172                     0.0   \n",
      "\n",
      "   Wind Generation - TWh  Hydro Generation - TWh  \n",
      "0                    0.0               26.013390  \n",
      "1                    0.0               29.633196  \n",
      "2                    0.0               31.345707  \n",
      "3                    0.0               35.667076  \n",
      "4                    0.0               37.717968  \n"
     ]
    }
   ],
   "source": [
    "file_path_2 = '02 modern-renewable-energy-consumption.csv'\n",
    "\n",
    "with open(file_path_2, 'rb') as f:\n",
    "    result = chardet.detect(f.read())\n",
    "\n",
    "world_data = pd.read_csv(file_path_2, encoding=result['encoding'])\n",
    "\n",
    "print(world_data.head())"
   ]
  },
  {
   "cell_type": "markdown",
   "id": "abab9e6d-18cc-4863-b980-3e52f581763a",
   "metadata": {},
   "source": [
    "# 4. Storytelling With Data graph"
   ]
  },
  {
   "cell_type": "markdown",
   "id": "1911148d-9df6-4b33-a875-8c96408ec834",
   "metadata": {},
   "source": [
    "Just like last week: choose any graph in the Introduction of Storytelling With Data. Use matplotlib to reproduce it in a rough way. I don't expect you to spend an enormous amount of time on this; I understand that you likely will not have time to re-create every feature of the graph. However, if you're excited about learning to use matplotlib, this is a good way to do that. You don't have to duplicate the exact values on the graph; just the same rough shape will be enough.  If you don't feel comfortable using matplotlib yet, do the best you can and write down what you tried or what Google searches you did to find the answers."
   ]
  },
  {
   "cell_type": "code",
   "execution_count": null,
   "id": "8b2888f9-3700-45ab-9829-6a5372106f9f",
   "metadata": {},
   "outputs": [],
   "source": []
  }
 ],
 "metadata": {
  "kernelspec": {
   "display_name": "Python 3",
   "language": "python",
   "name": "python3"
  },
  "language_info": {
   "codemirror_mode": {
    "name": "ipython",
    "version": 3
   },
   "file_extension": ".py",
   "mimetype": "text/x-python",
   "name": "python",
   "nbconvert_exporter": "python",
   "pygments_lexer": "ipython3",
   "version": "3.12.1"
  }
 },
 "nbformat": 4,
 "nbformat_minor": 5
}
